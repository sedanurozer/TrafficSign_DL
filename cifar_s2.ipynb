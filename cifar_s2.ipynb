{
  "nbformat": 4,
  "nbformat_minor": 0,
  "metadata": {
    "colab": {
      "name": "cifar10-84%.ipynb",
      "provenance": [],
      "collapsed_sections": [],
      "include_colab_link": true
    },
    "kernelspec": {
      "name": "python3",
      "display_name": "Python 3"
    },
    "language_info": {
      "name": "python"
    },
    "accelerator": "GPU"
  },
  "cells": [
    {
      "cell_type": "markdown",
      "metadata": {
        "id": "view-in-github",
        "colab_type": "text"
      },
      "source": [
        "<a href=\"https://colab.research.google.com/github/sedanurozer/TrafficSign_DL/blob/main/cifar_s2.ipynb\" target=\"_parent\"><img src=\"https://colab.research.google.com/assets/colab-badge.svg\" alt=\"Open In Colab\"/></a>"
      ]
    },
    {
      "cell_type": "code",
      "metadata": {
        "id": "9NtzKqWBRk6-"
      },
      "source": [
        "import tensorflow as tf\n",
        "import matplotlib.pyplot as plt\n",
        "from tensorflow.keras import layers\n",
        "from keras.models import Sequential\n",
        "from keras.layers import Dense, Dropout, Activation, Flatten\n",
        "from keras.layers import Conv2D, MaxPooling2D\n",
        "from keras.layers import BatchNormalization, DepthwiseConv2D"
      ],
      "execution_count": 1,
      "outputs": []
    },
    {
      "cell_type": "code",
      "metadata": {
        "id": "46gGPx-CRyAc"
      },
      "source": [
        "from tensorflow.keras.datasets import cifar10"
      ],
      "execution_count": 2,
      "outputs": []
    },
    {
      "cell_type": "code",
      "metadata": {
        "colab": {
          "base_uri": "https://localhost:8080/"
        },
        "id": "T8JS9dP2Rzdf",
        "outputId": "c52f5747-b9c5-4f07-e998-1032ff0cc400"
      },
      "source": [
        "# setting class names\n",
        "class_names=['airplane','automobile','bird','cat','deer','dog','frog','horse','ship','truck']\n",
        "#loading the dataset\n",
        "(x_train,y_train),(x_test,y_test)=cifar10.load_data()"
      ],
      "execution_count": 3,
      "outputs": [
        {
          "output_type": "stream",
          "text": [
            "Downloading data from https://www.cs.toronto.edu/~kriz/cifar-10-python.tar.gz\n",
            "170500096/170498071 [==============================] - 4s 0us/step\n"
          ],
          "name": "stdout"
        }
      ]
    },
    {
      "cell_type": "code",
      "metadata": {
        "colab": {
          "base_uri": "https://localhost:8080/"
        },
        "id": "RIxy3prER5-R",
        "outputId": "38d708fe-a49c-4697-889a-147ca62f8546"
      },
      "source": [
        "x_train=x_train/255.0\n",
        "x_train.shape"
      ],
      "execution_count": 4,
      "outputs": [
        {
          "output_type": "execute_result",
          "data": {
            "text/plain": [
              "(50000, 32, 32, 3)"
            ]
          },
          "metadata": {
            "tags": []
          },
          "execution_count": 4
        }
      ]
    },
    {
      "cell_type": "code",
      "metadata": {
        "colab": {
          "base_uri": "https://localhost:8080/"
        },
        "id": "s60dNNLBR8Eb",
        "outputId": "7a5ccfa7-d0ed-41a0-9395-7248e3c9b3d3"
      },
      "source": [
        "x_test=x_test/255.0\n",
        "x_test.shape"
      ],
      "execution_count": 5,
      "outputs": [
        {
          "output_type": "execute_result",
          "data": {
            "text/plain": [
              "(10000, 32, 32, 3)"
            ]
          },
          "metadata": {
            "tags": []
          },
          "execution_count": 5
        }
      ]
    },
    {
      "cell_type": "code",
      "metadata": {
        "colab": {
          "base_uri": "https://localhost:8080/",
          "height": 283
        },
        "id": "pH78k8TuR_jS",
        "outputId": "81af17cc-8e86-439e-f0be-804c0de4bdf2"
      },
      "source": [
        "plt.imshow(x_test[215])"
      ],
      "execution_count": 6,
      "outputs": [
        {
          "output_type": "execute_result",
          "data": {
            "text/plain": [
              "<matplotlib.image.AxesImage at 0x7fcd9ab41890>"
            ]
          },
          "metadata": {
            "tags": []
          },
          "execution_count": 6
        },
        {
          "output_type": "display_data",
          "data": {
            "image/png": "[encoded data removed]",
            "text/plain": [
              "<Figure size 432x288 with 1 Axes>"
            ]
          },
          "metadata": {
            "tags": [],
            "needs_background": "light"
          }
        }
      ]
    },
    {
      "cell_type": "code",
      "metadata": {
        "id": "rCnQFu_XSFgI"
      },
      "source": [
        "model_layers = [\n",
        "    Conv2D(32, (3, 3), activation='relu', strides=(1,1), padding='same', input_shape=(32, 32, 3)),\n",
        "    BatchNormalization(),\n",
        "    DepthwiseConv2D(kernel_size=(3,3), strides=(1, 1), padding='same', activation='relu', depth_multiplier=3),\n",
        "#     MaxPooling2D(2, 2),\n",
        "    Dropout(rate =0.1),\n",
        "    \n",
        "    \n",
        "    Conv2D(64, (3, 3), activation='relu', strides=(2, 2), padding='same'),\n",
        "    BatchNormalization(),\n",
        "    DepthwiseConv2D(kernel_size=(3,3), strides=(1, 1), padding='same', activation='relu'),\n",
        "#     MaxPooling2D(2, 2),\n",
        "    Dropout(rate = 0.1),\n",
        "    \n",
        "    Conv2D(128, (3, 3), activation='relu', strides=(1, 1), padding='same'),\n",
        "    BatchNormalization(),\n",
        "    DepthwiseConv2D(kernel_size=(3,3), strides=(1, 1), padding='same', activation='relu'),\n",
        "#     MaxPooling2D(2, 2),\n",
        "    Dropout(rate = 0.4),\n",
        "    \n",
        "    Conv2D(128, (3, 3), activation='relu', strides=(1, 1), padding='same'),\n",
        "    BatchNormalization(),\n",
        "    DepthwiseConv2D(kernel_size=(1,1), strides=(1, 1), padding='same', activation='relu'),\n",
        "    \n",
        "    \n",
        "    Conv2D(256, (3, 3), activation='relu', strides=(2, 2), padding='same'),\n",
        "    BatchNormalization(),\n",
        "    DepthwiseConv2D(kernel_size=(3,3), strides=(1, 1), padding='same', activation='relu'),\n",
        "    \n",
        "    \n",
        "    \n",
        "    Conv2D(512, (1, 1), activation='relu', strides=(2, 2), padding='same'),\n",
        "    BatchNormalization(),\n",
        "    DepthwiseConv2D(kernel_size=(1,1), strides=(1, 1), padding='same', activation='relu'),\n",
        "    \n",
        "#     MaxPooling2D(2, 2),\n",
        "    Dropout(rate = 0.4),\n",
        "    \n",
        "    Flatten(),\n",
        "    Dropout(rate = 0.3),\n",
        "    Dense(2048, activation='relu'),\n",
        "    Dropout(rate = 0.3),\n",
        "    Dense(512, activation='relu'),\n",
        "    Dropout(rate = 0.4),\n",
        "    Dense(10, activation='softmax')\n",
        "] \n",
        "model = Sequential(model_layers)"
      ],
      "execution_count": 7,
      "outputs": []
    },
    {
      "cell_type": "code",
      "metadata": {
        "id": "0yMwZTwESlna"
      },
      "source": [
        "model.compile(loss=\"sparse_categorical_crossentropy\", optimizer=\"Adam\", metrics=[\"sparse_categorical_accuracy\"])"
      ],
      "execution_count": 8,
      "outputs": []
    },
    {
      "cell_type": "code",
      "metadata": {
        "colab": {
          "base_uri": "https://localhost:8080/"
        },
        "id": "MnQg0p6bSnNO",
        "outputId": "7d2e4416-ee84-46a0-a9b9-83db63c0a2b3"
      },
      "source": [
        "model_train= model.fit(x_train,y_train,epochs=20)"
      ],
      "execution_count": 9,
      "outputs": [
        {
          "output_type": "stream",
          "text": [
            "Epoch 1/20\n",
            "1563/1563 [==============================] - 79s 20ms/step - loss: 1.6308 - sparse_categorical_accuracy: 0.3911\n",
            "Epoch 2/20\n",
            "1563/1563 [==============================] - 32s 20ms/step - loss: 1.0247 - sparse_categorical_accuracy: 0.6384\n",
            "Epoch 3/20\n",
            "1563/1563 [==============================] - 32s 20ms/step - loss: 0.8701 - sparse_categorical_accuracy: 0.6978\n",
            "Epoch 4/20\n",
            "1563/1563 [==============================] - 32s 20ms/step - loss: 0.7735 - sparse_categorical_accuracy: 0.7366\n",
            "Epoch 5/20\n",
            "1563/1563 [==============================] - 32s 20ms/step - loss: 0.6913 - sparse_categorical_accuracy: 0.7605\n",
            "Epoch 6/20\n",
            "1563/1563 [==============================] - 32s 20ms/step - loss: 0.6487 - sparse_categorical_accuracy: 0.7770\n",
            "Epoch 7/20\n",
            "1563/1563 [==============================] - 32s 20ms/step - loss: 0.6014 - sparse_categorical_accuracy: 0.7958\n",
            "Epoch 8/20\n",
            "1563/1563 [==============================] - 32s 20ms/step - loss: 0.5593 - sparse_categorical_accuracy: 0.8096\n",
            "Epoch 9/20\n",
            "1563/1563 [==============================] - 32s 20ms/step - loss: 0.5331 - sparse_categorical_accuracy: 0.8181\n",
            "Epoch 10/20\n",
            "1563/1563 [==============================] - 32s 20ms/step - loss: 0.5010 - sparse_categorical_accuracy: 0.8266\n",
            "Epoch 11/20\n",
            "1563/1563 [==============================] - 32s 20ms/step - loss: 0.4828 - sparse_categorical_accuracy: 0.8364\n",
            "Epoch 12/20\n",
            "1563/1563 [==============================] - 32s 20ms/step - loss: 0.4623 - sparse_categorical_accuracy: 0.8421\n",
            "Epoch 13/20\n",
            "1563/1563 [==============================] - 32s 20ms/step - loss: 0.4379 - sparse_categorical_accuracy: 0.8503\n",
            "Epoch 14/20\n",
            "1563/1563 [==============================] - 32s 20ms/step - loss: 0.4331 - sparse_categorical_accuracy: 0.8501\n",
            "Epoch 15/20\n",
            "1563/1563 [==============================] - 32s 20ms/step - loss: 0.4101 - sparse_categorical_accuracy: 0.8598\n",
            "Epoch 16/20\n",
            "1563/1563 [==============================] - 32s 20ms/step - loss: 0.3974 - sparse_categorical_accuracy: 0.8643\n",
            "Epoch 17/20\n",
            "1563/1563 [==============================] - 32s 20ms/step - loss: 0.3870 - sparse_categorical_accuracy: 0.8679\n",
            "Epoch 18/20\n",
            "1563/1563 [==============================] - 32s 20ms/step - loss: 0.3728 - sparse_categorical_accuracy: 0.8725\n",
            "Epoch 19/20\n",
            "1563/1563 [==============================] - 32s 20ms/step - loss: 0.3638 - sparse_categorical_accuracy: 0.8753\n",
            "Epoch 20/20\n",
            "1563/1563 [==============================] - 32s 20ms/step - loss: 0.3558 - sparse_categorical_accuracy: 0.8763\n"
          ],
          "name": "stdout"
        }
      ]
    },
    {
      "cell_type": "code",
      "metadata": {
        "id": "G30pYoFm7LRA",
        "outputId": "89afcc3c-d4ea-498a-c5a4-5267dadb133c",
        "colab": {
          "base_uri": "https://localhost:8080/"
        }
      },
      "source": [
        "model.save('cifar')"
      ],
      "execution_count": 10,
      "outputs": [
        {
          "output_type": "stream",
          "text": [
            "INFO:tensorflow:Assets written to: cifar/assets\n"
          ],
          "name": "stdout"
        }
      ]
    },
    {
      "cell_type": "code",
      "metadata": {
        "id": "022fWj7ITUkX"
      },
      "source": [
        "test_eval = model.evaluate(x_test, y_test, verbose=0)"
      ],
      "execution_count": 11,
      "outputs": []
    },
    {
      "cell_type": "code",
      "metadata": {
        "colab": {
          "base_uri": "https://localhost:8080/"
        },
        "id": "k_oeFvpSTYIO",
        "outputId": "46a5c273-0fc1-4398-e55f-585b30bd422a"
      },
      "source": [
        "print('Test loss:', test_eval[0])\n",
        "print('Test accuracy: %',test_eval[1]*100)"
      ],
      "execution_count": 12,
      "outputs": [
        {
          "output_type": "stream",
          "text": [
            "Test loss: 0.5099593997001648\n",
            "Test accuracy: % 83.49000215530396\n"
          ],
          "name": "stdout"
        }
      ]
    },
    {
      "cell_type": "code",
      "metadata": {
        "id": "vrdspKp187hG",
        "outputId": "0085555e-6f00-4035-d441-8e57a890bef0",
        "colab": {
          "base_uri": "https://localhost:8080/",
          "height": 324
        }
      },
      "source": [
        "import pandas as pd\n",
        "pd.DataFrame(model_train.history).plot(figsize=(8, 5))\n",
        "plt.grid(True)\n",
        "plt.gca().set_ylim(0, 1)\n",
        "plt.show()"
      ],
      "execution_count": 16,
      "outputs": [
        {
          "output_type": "display_data",
          "data": {
            "image/png": "[encoded data removed]",
            "text/plain": [
              "<Figure size 576x360 with 1 Axes>"
            ]
          },
          "metadata": {
            "tags": [],
            "needs_background": "light"
          }
        }
      ]
    }
  ]
}